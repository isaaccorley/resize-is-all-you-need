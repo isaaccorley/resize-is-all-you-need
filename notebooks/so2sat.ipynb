{
 "cells": [
  {
   "cell_type": "code",
   "execution_count": 1,
   "metadata": {},
   "outputs": [],
   "source": [
    "import os\n",
    "import sys\n",
    "\n",
    "sys.path.append(\"..\")\n",
    "\n",
    "import json\n",
    "from itertools import product\n",
    "import pickle\n",
    "from pprint import pprint\n",
    "\n",
    "import pandas as pd\n",
    "import kornia.augmentation as K\n",
    "import numpy as np\n",
    "import torch\n",
    "import torch.nn as nn\n",
    "from sklearn.neighbors import KNeighborsClassifier\n",
    "from sklearn.metrics import accuracy_score, f1_score, precision_score, recall_score\n",
    "from sklearn.preprocessing import label_binarize\n",
    "from torchgeo.datasets import So2Sat\n",
    "\n",
    "from src.models import get_model_by_name\n",
    "from src.datasets import So2SatDataModule\n",
    "from src.utils import extract_features\n",
    "\n",
    "device = torch.device(\"cuda\")"
   ]
  },
  {
   "cell_type": "code",
   "execution_count": null,
   "metadata": {},
   "outputs": [
    {
     "name": "stdout",
     "output_type": "stream",
     "text": [
      "Extracting features for imagestats_34\n"
     ]
    },
    {
     "name": "stderr",
     "output_type": "stream",
     "text": [
      "100%|██████████| 10025/10025 [03:12<00:00, 52.13it/s]\n",
      "100%|██████████| 2497/2497 [00:46<00:00, 53.97it/s]\n"
     ]
    },
    {
     "name": "stdout",
     "output_type": "stream",
     "text": [
      "Extracting features for imagestats_224\n"
     ]
    },
    {
     "name": "stderr",
     "output_type": "stream",
     "text": [
      "100%|██████████| 10025/10025 [02:55<00:00, 57.12it/s]\n",
      "100%|██████████| 2497/2497 [00:43<00:00, 57.90it/s]\n"
     ]
    },
    {
     "name": "stdout",
     "output_type": "stream",
     "text": [
      "Extracting features for imagestats_rgb_34\n"
     ]
    },
    {
     "name": "stderr",
     "output_type": "stream",
     "text": [
      "100%|██████████| 10025/10025 [02:55<00:00, 57.28it/s]\n",
      "100%|██████████| 2497/2497 [00:42<00:00, 58.18it/s]\n"
     ]
    },
    {
     "name": "stdout",
     "output_type": "stream",
     "text": [
      "Extracting features for imagestats_rgb_224\n"
     ]
    },
    {
     "name": "stderr",
     "output_type": "stream",
     "text": [
      "100%|██████████| 10025/10025 [03:05<00:00, 53.96it/s]\n",
      "100%|██████████| 2497/2497 [00:46<00:00, 53.14it/s]\n"
     ]
    },
    {
     "name": "stdout",
     "output_type": "stream",
     "text": [
      "Extracting features for resnet50_pretrained_imagenet_34\n"
     ]
    },
    {
     "name": "stderr",
     "output_type": "stream",
     "text": [
      "100%|██████████| 10025/10025 [03:10<00:00, 52.71it/s]\n",
      "100%|██████████| 2497/2497 [00:48<00:00, 51.91it/s]\n"
     ]
    },
    {
     "name": "stdout",
     "output_type": "stream",
     "text": [
      "Extracting features for resnet50_pretrained_imagenet_224\n"
     ]
    },
    {
     "name": "stderr",
     "output_type": "stream",
     "text": [
      "100%|██████████| 10025/10025 [16:14<00:00, 10.29it/s]\n",
      "100%|██████████| 2497/2497 [04:07<00:00, 10.11it/s]\n"
     ]
    },
    {
     "name": "stdout",
     "output_type": "stream",
     "text": [
      "Extracting features for resnet50_pretrained_imagenet_rgb_34\n"
     ]
    },
    {
     "name": "stderr",
     "output_type": "stream",
     "text": [
      "100%|██████████| 10025/10025 [02:57<00:00, 56.60it/s]\n",
      "100%|██████████| 2497/2497 [00:45<00:00, 54.28it/s]\n"
     ]
    },
    {
     "name": "stdout",
     "output_type": "stream",
     "text": [
      "Extracting features for resnet50_pretrained_imagenet_rgb_224\n"
     ]
    },
    {
     "name": "stderr",
     "output_type": "stream",
     "text": [
      "100%|██████████| 10025/10025 [15:26<00:00, 10.82it/s]\n",
      "100%|██████████| 2497/2497 [03:53<00:00, 10.72it/s]\n"
     ]
    },
    {
     "name": "stdout",
     "output_type": "stream",
     "text": [
      "Extracting features for resnet50_randominit_34\n"
     ]
    },
    {
     "name": "stderr",
     "output_type": "stream",
     "text": [
      "100%|██████████| 10025/10025 [03:07<00:00, 53.47it/s]\n",
      "100%|██████████| 2497/2497 [00:47<00:00, 52.53it/s]\n"
     ]
    },
    {
     "name": "stdout",
     "output_type": "stream",
     "text": [
      "Extracting features for resnet50_randominit_224\n"
     ]
    },
    {
     "name": "stderr",
     "output_type": "stream",
     "text": [
      "100%|██████████| 10025/10025 [16:20<00:00, 10.23it/s]\n",
      "100%|██████████| 2497/2497 [03:55<00:00, 10.60it/s]\n"
     ]
    },
    {
     "name": "stdout",
     "output_type": "stream",
     "text": [
      "Extracting features for resnet50_randominit_rgb_34\n"
     ]
    },
    {
     "name": "stderr",
     "output_type": "stream",
     "text": [
      "100%|██████████| 10025/10025 [02:55<00:00, 56.97it/s]\n",
      "100%|██████████| 2497/2497 [00:45<00:00, 54.46it/s]\n"
     ]
    },
    {
     "name": "stdout",
     "output_type": "stream",
     "text": [
      "Extracting features for resnet50_randominit_rgb_224\n"
     ]
    },
    {
     "name": "stderr",
     "output_type": "stream",
     "text": [
      "100%|██████████| 10025/10025 [15:03<00:00, 11.09it/s]\n",
      "100%|██████████| 2497/2497 [03:42<00:00, 11.24it/s]\n"
     ]
    },
    {
     "name": "stdout",
     "output_type": "stream",
     "text": [
      "Extracting features for mosaiks_512_3_34\n"
     ]
    },
    {
     "name": "stderr",
     "output_type": "stream",
     "text": [
      "100%|██████████| 10025/10025 [02:38<00:00, 63.27it/s]\n",
      "100%|██████████| 2497/2497 [00:45<00:00, 55.20it/s]\n"
     ]
    },
    {
     "name": "stdout",
     "output_type": "stream",
     "text": [
      "Extracting features for mosaiks_512_3_224\n"
     ]
    },
    {
     "name": "stderr",
     "output_type": "stream",
     "text": [
      "100%|██████████| 10025/10025 [21:12<00:00,  7.88it/s]\n",
      "100%|██████████| 2497/2497 [05:21<00:00,  7.77it/s]\n"
     ]
    },
    {
     "name": "stdout",
     "output_type": "stream",
     "text": [
      "Extracting features for mosaiks_512_3_rgb_34\n"
     ]
    },
    {
     "name": "stderr",
     "output_type": "stream",
     "text": [
      "100%|██████████| 10025/10025 [03:01<00:00, 55.21it/s]\n",
      "100%|██████████| 2497/2497 [00:44<00:00, 55.76it/s]\n"
     ]
    },
    {
     "name": "stdout",
     "output_type": "stream",
     "text": [
      "Extracting features for mosaiks_512_3_rgb_224\n"
     ]
    },
    {
     "name": "stderr",
     "output_type": "stream",
     "text": [
      "100%|██████████| 10025/10025 [18:27<00:00,  9.06it/s]\n",
      "100%|██████████| 2497/2497 [04:37<00:00,  9.01it/s]\n"
     ]
    }
   ],
   "source": [
    "# Fit\n",
    "model_names = [\n",
    "    \"resnet50_pretrained_moco\",\n",
    "    \"imagestats\",\n",
    "    \"resnet50_pretrained_imagenet\",\n",
    "    \"resnet50_randominit\",\n",
    "    \"mosaiks_512_3\",\n",
    "]\n",
    "rgbs = [False, True]\n",
    "sizes = [34, 224]\n",
    "version = \"3_random\"\n",
    "\n",
    "for model_name, rgb, size in product(model_names, rgbs, sizes):\n",
    "    run = f\"{model_name}{'_rgb' if rgb else ''}_{size}\"\n",
    "    print(f\"Extracting features for {run}\")\n",
    "    if rgb:\n",
    "        bands = So2Sat.rgb_bands\n",
    "        pad_missing_bands = False\n",
    "    else:\n",
    "        bands = So2Sat.all_s2_band_names\n",
    "        pad_missing_bands = True\n",
    "\n",
    "    dm = So2SatDataModule(\n",
    "        root=\"../data/so2sat/\",\n",
    "        bands=bands,\n",
    "        version=version,\n",
    "        batch_size=32,\n",
    "        num_workers=16,\n",
    "        pad_missing_bands=pad_missing_bands,\n",
    "        seed=0,\n",
    "    )\n",
    "    dm.setup()\n",
    "\n",
    "    model = get_model_by_name(model_name, rgb, device=device)\n",
    "\n",
    "    if model_name == \"imagestats\":\n",
    "        transforms = nn.Sequential(nn.Identity()).to(device)\n",
    "    else:\n",
    "        transforms = nn.Sequential(K.Resize(size)).to(device)\n",
    "\n",
    "    x_train, y_train = extract_features(\n",
    "        model, dm.train_dataloader(), device, transforms=transforms\n",
    "    )\n",
    "    x_test, y_test = extract_features(\n",
    "        model, dm.test_dataloader(), device, transforms=transforms\n",
    "    )\n",
    "    data = dict(x_train=x_train, y_train=y_train, x_test=x_test, y_test=y_test)\n",
    "    with open(f\"{run}.pkl\", \"wb\") as f:\n",
    "        pickle.dump(data, f)"
   ]
  },
  {
   "cell_type": "code",
   "execution_count": 2,
   "metadata": {},
   "outputs": [
    {
     "name": "stdout",
     "output_type": "stream",
     "text": [
      "Evaluating resnet50_randominit_34\n"
     ]
    }
   ],
   "source": [
    "# Evaluate features\n",
    "model_names = [\n",
    "    # \"resnet50_pretrained_moco\",\n",
    "    # \"resnet50_pretrained_imagenet\",\n",
    "    \"resnet50_randominit\",\n",
    "    \"imagestats\",\n",
    "    \"mosaiks_512_3\",\n",
    "]\n",
    "rgbs = [False, True]\n",
    "sizes = [34, 224]\n",
    "\n",
    "results = {}\n",
    "K = 5\n",
    "for model_name, rgb, size in product(model_names, rgbs, sizes):\n",
    "    run = f\"{model_name}{'_rgb' if rgb else ''}_{size}\"\n",
    "    print(f\"Evaluating {run}\")\n",
    "\n",
    "    filename = f\"{run}.pkl\"\n",
    "    if not os.path.exists(filename):\n",
    "        continue\n",
    "\n",
    "    with open(filename, \"rb\") as f:\n",
    "        data = pickle.load(f)\n",
    "\n",
    "    x_train = data[\"x_train\"]\n",
    "    y_train = data[\"y_train\"]\n",
    "    x_test = data[\"x_test\"]\n",
    "    y_test = data[\"y_test\"]\n",
    "\n",
    "    knn_model = KNeighborsClassifier(n_neighbors=K, n_jobs=8)\n",
    "    knn_model.fit(X=x_train, y=y_train)\n",
    "\n",
    "    y_test_onehot = label_binarize(y_test, classes=np.arange(len(So2Sat.classes)))\n",
    "    y_pred = knn_model.predict(x_test)\n",
    "    y_score = knn_model.predict_proba(x_test)\n",
    "\n",
    "    metrics = {\n",
    "        \"f1_weighted\": f1_score(y_test, y_pred, average=\"weighted\"),\n",
    "        \"f1_macro\": f1_score(y_test, y_pred, average=\"macro\"),\n",
    "        \"f1_micro\": f1_score(y_test, y_pred, average=\"micro\"),\n",
    "        \"precision_micro\": precision_score(y_test, y_pred, average=\"micro\"),\n",
    "        \"precision_macro\": precision_score(y_test, y_pred, average=\"macro\"),\n",
    "        \"precision_weighted\": precision_score(y_test, y_pred, average=\"weighted\"),\n",
    "        \"recall_micro\": recall_score(y_test, y_pred, average=\"micro\"),\n",
    "        \"recall_macro\": recall_score(y_test, y_pred, average=\"macro\"),\n",
    "        \"recall_weighted\": recall_score(y_test, y_pred, average=\"weighted\"),\n",
    "        \"accuracy\": accuracy_score(y_test, y_pred),\n",
    "    }\n",
    "    pprint(metrics)\n",
    "    results[run] = metrics"
   ]
  },
  {
   "cell_type": "code",
   "execution_count": null,
   "metadata": {},
   "outputs": [],
   "source": [
    "# Dump metrics\n",
    "with open(\"so2sat-results.json\", \"w\") as f:\n",
    "    json.dump(results, f, indent=2)"
   ]
  },
  {
   "cell_type": "code",
   "execution_count": null,
   "metadata": {},
   "outputs": [],
   "source": [
    "# Clean metrics\n",
    "with open(\"so2sat-results.json\") as f:\n",
    "    results = json.load(f)\n",
    "\n",
    "df = pd.DataFrame.from_dict(results).transpose()\n",
    "df[\"rgb\"] = [\"RGB\" if \"rgb\" in model_name else \"MSI\" for model_name in df.index]\n",
    "df[\"size\"] = [int(model_name.split(\"_\")[-1]) for model_name in df.index]\n",
    "df[\"encoder\"] = [\n",
    "    model_name.rsplit(\"_\", 1)[0].replace(\"_rgb\", \"\") for model_name in df.index\n",
    "]\n",
    "df = df.sort_values([\"rgb\", \"encoder\", \"size\"], ascending=True)\n",
    "df.to_csv(\"sat6-results.csv\")\n",
    "df"
   ]
  }
 ],
 "metadata": {
  "kernelspec": {
   "display_name": "yoloenv",
   "language": "python",
   "name": "python3"
  },
  "language_info": {
   "codemirror_mode": {
    "name": "ipython",
    "version": 3
   },
   "file_extension": ".py",
   "mimetype": "text/x-python",
   "name": "python",
   "nbconvert_exporter": "python",
   "pygments_lexer": "ipython3",
   "version": "3.10.8"
  },
  "orig_nbformat": 4
 },
 "nbformat": 4,
 "nbformat_minor": 2
}
