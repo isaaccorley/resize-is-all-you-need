{
 "cells": [
  {
   "cell_type": "code",
   "execution_count": 1,
   "metadata": {},
   "outputs": [],
   "source": [
    "import os\n",
    "import sys\n",
    "\n",
    "sys.path.append(\"..\")\n",
    "\n",
    "import json\n",
    "from itertools import product\n",
    "import pickle\n",
    "from pprint import pprint\n",
    "\n",
    "import json\n",
    "import pandas as pd\n",
    "import pandas as pd\n",
    "import kornia.augmentation as K\n",
    "import numpy as np\n",
    "import torch\n",
    "import torch.nn as nn\n",
    "from sklearn.neighbors import KNeighborsClassifier\n",
    "from sklearn.metrics import accuracy_score, f1_score, precision_score, recall_score\n",
    "from sklearn.preprocessing import label_binarize\n",
    "\n",
    "\n",
    "from src.models import get_model_by_name\n",
    "from src.datasets.sat6 import SAT6, SAT6DataModule\n",
    "from src.utils import extract_features\n",
    "\n",
    "device = torch.device(\"cuda\")"
   ]
  },
  {
   "cell_type": "code",
   "execution_count": 15,
   "metadata": {},
   "outputs": [
    {
     "name": "stdout",
     "output_type": "stream",
     "text": [
      "Extracting features for resnet50_pretrained_moco_rgb_34\n"
     ]
    },
    {
     "name": "stderr",
     "output_type": "stream",
     "text": [
      "100%|██████████| 5063/5063 [01:46<00:00, 47.51it/s]\n",
      "100%|██████████| 1266/1266 [00:26<00:00, 48.61it/s]\n"
     ]
    },
    {
     "name": "stdout",
     "output_type": "stream",
     "text": [
      "Extracting features for resnet50_pretrained_moco_rgb_224\n"
     ]
    },
    {
     "name": "stderr",
     "output_type": "stream",
     "text": [
      "100%|██████████| 5063/5063 [14:54<00:00,  5.66it/s]\n",
      "100%|██████████| 1266/1266 [03:34<00:00,  5.90it/s]\n"
     ]
    },
    {
     "name": "stdout",
     "output_type": "stream",
     "text": [
      "Extracting features for resnet18_pretrained_moco_rgb_34\n"
     ]
    },
    {
     "name": "stderr",
     "output_type": "stream",
     "text": [
      "100%|██████████| 5063/5063 [00:56<00:00, 88.97it/s]\n",
      "100%|██████████| 1266/1266 [00:15<00:00, 82.88it/s]\n"
     ]
    },
    {
     "name": "stdout",
     "output_type": "stream",
     "text": [
      "Extracting features for resnet18_pretrained_moco_rgb_224\n"
     ]
    },
    {
     "name": "stderr",
     "output_type": "stream",
     "text": [
      "100%|██████████| 5063/5063 [04:35<00:00, 18.41it/s]\n",
      "100%|██████████| 1266/1266 [01:11<00:00, 17.59it/s]\n"
     ]
    },
    {
     "name": "stdout",
     "output_type": "stream",
     "text": [
      "Extracting features for resnet50_pretrained_imagenet_rgb_34\n"
     ]
    },
    {
     "name": "stderr",
     "output_type": "stream",
     "text": [
      "100%|██████████| 5063/5063 [01:39<00:00, 50.64it/s]\n",
      "100%|██████████| 1266/1266 [00:25<00:00, 49.28it/s]\n"
     ]
    },
    {
     "name": "stdout",
     "output_type": "stream",
     "text": [
      "Extracting features for resnet50_pretrained_imagenet_rgb_224\n"
     ]
    },
    {
     "name": "stderr",
     "output_type": "stream",
     "text": [
      "100%|██████████| 5063/5063 [14:19<00:00,  5.89it/s]\n",
      "100%|██████████| 1266/1266 [03:48<00:00,  5.54it/s]\n"
     ]
    },
    {
     "name": "stdout",
     "output_type": "stream",
     "text": [
      "Extracting features for resnet50_randominit_rgb_34\n"
     ]
    },
    {
     "name": "stderr",
     "output_type": "stream",
     "text": [
      "100%|██████████| 5063/5063 [01:45<00:00, 48.13it/s]\n",
      "100%|██████████| 1266/1266 [00:26<00:00, 47.60it/s]\n"
     ]
    },
    {
     "name": "stdout",
     "output_type": "stream",
     "text": [
      "Extracting features for resnet50_randominit_rgb_224\n"
     ]
    },
    {
     "name": "stderr",
     "output_type": "stream",
     "text": [
      "100%|██████████| 5063/5063 [14:21<00:00,  5.88it/s]\n",
      "100%|██████████| 1266/1266 [03:31<00:00,  5.98it/s]\n"
     ]
    },
    {
     "name": "stdout",
     "output_type": "stream",
     "text": [
      "Extracting features for imagestats_rgb_34\n"
     ]
    },
    {
     "name": "stderr",
     "output_type": "stream",
     "text": [
      "100%|██████████| 5063/5063 [00:08<00:00, 571.93it/s]\n",
      "100%|██████████| 1266/1266 [00:03<00:00, 356.26it/s]\n"
     ]
    },
    {
     "name": "stdout",
     "output_type": "stream",
     "text": [
      "Extracting features for imagestats_rgb_224\n"
     ]
    },
    {
     "name": "stderr",
     "output_type": "stream",
     "text": [
      "100%|██████████| 5063/5063 [00:09<00:00, 549.38it/s]\n",
      "100%|██████████| 1266/1266 [00:03<00:00, 358.21it/s]\n"
     ]
    },
    {
     "name": "stdout",
     "output_type": "stream",
     "text": [
      "Extracting features for mosaiks_512_3_rgb_34\n"
     ]
    },
    {
     "name": "stderr",
     "output_type": "stream",
     "text": [
      "100%|██████████| 5063/5063 [01:00<00:00, 83.49it/s]\n",
      "100%|██████████| 1266/1266 [00:15<00:00, 81.07it/s]\n"
     ]
    },
    {
     "name": "stdout",
     "output_type": "stream",
     "text": [
      "Extracting features for mosaiks_512_3_rgb_224\n"
     ]
    },
    {
     "name": "stderr",
     "output_type": "stream",
     "text": [
      "100%|██████████| 5063/5063 [17:56<00:00,  4.70it/s]\n",
      "100%|██████████| 1266/1266 [04:32<00:00,  4.65it/s]\n"
     ]
    }
   ],
   "source": [
    "# Fit and save features\n",
    "model_names = [\n",
    "    \"resnet50_pretrained_moco\",\n",
    "    \"resnet18_pretrained_moco\",\n",
    "    \"resnet50_pretrained_imagenet\",\n",
    "    \"resnet50_randominit\",\n",
    "    \"imagestats\",\n",
    "    \"mosaiks_512_3\",\n",
    "]\n",
    "rgbs = [True]\n",
    "sizes = [34, 224]\n",
    "\n",
    "for model_name, rgb, size in product(model_names, rgbs, sizes):\n",
    "    run = f\"{model_name}{'_rgb' if rgb else ''}_{size}\"\n",
    "    print(f\"Extracting features for {run}\")\n",
    "\n",
    "    dm = SAT6DataModule(root=\"data/sat6/\", batch_size=64, num_workers=16, seed=0)\n",
    "    dm.setup()\n",
    "\n",
    "    model = get_model_by_name(model_name, rgb, device=device)\n",
    "\n",
    "    if model_name == \"imagestats\":\n",
    "        transforms = nn.Sequential(nn.Identity()).to(device)\n",
    "    else:\n",
    "        transforms = nn.Sequential(K.Resize(size)).to(device)\n",
    "\n",
    "    x_train, y_train = extract_features(\n",
    "        model, dm.train_dataloader(), device, transforms=transforms\n",
    "    )\n",
    "    x_test, y_test = extract_features(\n",
    "        model, dm.test_dataloader(), device, transforms=transforms\n",
    "    )\n",
    "    data = dict(x_train=x_train, y_train=y_train, x_test=x_test, y_test=y_test)\n",
    "    with open(f\"{run}.pkl\", \"wb\") as f:\n",
    "        pickle.dump(data, f)"
   ]
  },
  {
   "cell_type": "code",
   "execution_count": 7,
   "metadata": {},
   "outputs": [
    {
     "name": "stdout",
     "output_type": "stream",
     "text": [
      "Evaluating resnet50_pretrained_moco_34\n",
      "Evaluating resnet50_pretrained_moco_224\n",
      "Evaluating resnet50_pretrained_moco_rgb_34\n",
      "{'accuracy': 0.9817037037037037,\n",
      " 'f1_micro': 0.9817037037037037,\n",
      " 'f1_weighted': 0.9816853699645429,\n",
      " 'precision_micro': 0.9817037037037037,\n",
      " 'precision_weighted': 0.9817002484112021,\n",
      " 'recall_micro': 0.9817037037037037,\n",
      " 'recall_weighted': 0.9817037037037037}\n",
      "Evaluating resnet50_pretrained_moco_rgb_224\n",
      "{'accuracy': 0.9989876543209877,\n",
      " 'f1_micro': 0.9989876543209877,\n",
      " 'f1_weighted': 0.9989877017631823,\n",
      " 'precision_micro': 0.9989876543209877,\n",
      " 'precision_weighted': 0.9989880426730673,\n",
      " 'recall_micro': 0.9989876543209877,\n",
      " 'recall_weighted': 0.9989876543209877}\n",
      "Evaluating resnet18_pretrained_moco_34\n",
      "Evaluating resnet18_pretrained_moco_224\n",
      "Evaluating resnet18_pretrained_moco_rgb_34\n",
      "{'accuracy': 0.9708888888888889,\n",
      " 'f1_micro': 0.9708888888888889,\n",
      " 'f1_weighted': 0.9708325797091503,\n",
      " 'precision_micro': 0.9708888888888889,\n",
      " 'precision_weighted': 0.9708306401189012,\n",
      " 'recall_micro': 0.9708888888888889,\n",
      " 'recall_weighted': 0.9708888888888889}\n",
      "Evaluating resnet18_pretrained_moco_rgb_224\n",
      "{'accuracy': 0.9988271604938271,\n",
      " 'f1_micro': 0.9988271604938271,\n",
      " 'f1_weighted': 0.9988273904901088,\n",
      " 'precision_micro': 0.9988271604938271,\n",
      " 'precision_weighted': 0.9988282781174926,\n",
      " 'recall_micro': 0.9988271604938271,\n",
      " 'recall_weighted': 0.9988271604938271}\n",
      "Evaluating resnet50_pretrained_imagenet_34\n",
      "Evaluating resnet50_pretrained_imagenet_224\n",
      "Evaluating resnet50_pretrained_imagenet_rgb_34\n",
      "{'accuracy': 0.9311234567901234,\n",
      " 'f1_micro': 0.9311234567901234,\n",
      " 'f1_weighted': 0.9310540355110277,\n",
      " 'precision_micro': 0.9311234567901234,\n",
      " 'precision_weighted': 0.9311223845569083,\n",
      " 'recall_micro': 0.9311234567901234,\n",
      " 'recall_weighted': 0.9311234567901234}\n",
      "Evaluating resnet50_pretrained_imagenet_rgb_224\n",
      "{'accuracy': 0.9977283950617284,\n",
      " 'f1_micro': 0.9977283950617284,\n",
      " 'f1_weighted': 0.9977301161930854,\n",
      " 'precision_micro': 0.9977283950617284,\n",
      " 'precision_weighted': 0.9977387136767045,\n",
      " 'recall_micro': 0.9977283950617284,\n",
      " 'recall_weighted': 0.9977283950617284}\n",
      "Evaluating resnet50_randominit_34\n",
      "Evaluating resnet50_randominit_224\n",
      "Evaluating resnet50_randominit_rgb_34\n",
      "{'accuracy': 0.9207283950617284,\n",
      " 'f1_micro': 0.9207283950617284,\n",
      " 'f1_weighted': 0.9209440782673963,\n",
      " 'precision_micro': 0.9207283950617284,\n",
      " 'precision_weighted': 0.9332849603322978,\n",
      " 'recall_micro': 0.9207283950617284,\n",
      " 'recall_weighted': 0.9207283950617284}\n",
      "Evaluating resnet50_randominit_rgb_224\n",
      "{'accuracy': 0.9857037037037037,\n",
      " 'f1_micro': 0.9857037037037037,\n",
      " 'f1_weighted': 0.9857337070186168,\n",
      " 'precision_micro': 0.9857037037037037,\n",
      " 'precision_weighted': 0.9857994112089208,\n",
      " 'recall_micro': 0.9857037037037037,\n",
      " 'recall_weighted': 0.9857037037037037}\n",
      "Evaluating imagestats_34\n",
      "Evaluating imagestats_224\n",
      "Evaluating imagestats_rgb_34\n",
      "{'accuracy': 0.9967777777777778,\n",
      " 'f1_micro': 0.9967777777777778,\n",
      " 'f1_weighted': 0.9967754084743933,\n",
      " 'precision_micro': 0.9967777777777778,\n",
      " 'precision_weighted': 0.9967783729665748,\n",
      " 'recall_micro': 0.9967777777777778,\n",
      " 'recall_weighted': 0.9967777777777778}\n",
      "Evaluating imagestats_rgb_224\n",
      "{'accuracy': 0.9967777777777778,\n",
      " 'f1_micro': 0.9967777777777778,\n",
      " 'f1_weighted': 0.9967754084743933,\n",
      " 'precision_micro': 0.9967777777777778,\n",
      " 'precision_weighted': 0.9967783729665748,\n",
      " 'recall_micro': 0.9967777777777778,\n",
      " 'recall_weighted': 0.9967777777777778}\n",
      "Evaluating mosaiks_512_3_34\n",
      "Evaluating mosaiks_512_3_224\n",
      "Evaluating mosaiks_512_3_rgb_34\n",
      "{'accuracy': 0.9861975308641975,\n",
      " 'f1_micro': 0.9861975308641975,\n",
      " 'f1_weighted': 0.9862097021823951,\n",
      " 'precision_micro': 0.9861975308641975,\n",
      " 'precision_weighted': 0.986252777096745,\n",
      " 'recall_micro': 0.9861975308641975,\n",
      " 'recall_weighted': 0.9861975308641975}\n",
      "Evaluating mosaiks_512_3_rgb_224\n",
      "{'accuracy': 0.984641975308642,\n",
      " 'f1_micro': 0.984641975308642,\n",
      " 'f1_weighted': 0.9846565059942302,\n",
      " 'precision_micro': 0.984641975308642,\n",
      " 'precision_weighted': 0.9847087396682721,\n",
      " 'recall_micro': 0.984641975308642,\n",
      " 'recall_weighted': 0.984641975308642}\n"
     ]
    }
   ],
   "source": [
    "# Evaluate features\n",
    "model_names = [\n",
    "    \"resnet50_pretrained_moco\",\n",
    "    \"resnet18_pretrained_moco\",\n",
    "    \"resnet50_pretrained_imagenet\",\n",
    "    \"resnet50_randominit\",\n",
    "    \"imagestats\",\n",
    "    \"mosaiks_512_3\",\n",
    "]\n",
    "rgbs = [True]\n",
    "sizes = [34, 224]\n",
    "\n",
    "results = {}\n",
    "K = 3\n",
    "for model_name, rgb, size in product(model_names, rgbs, sizes):\n",
    "    run = f\"{model_name}{'_rgb' if rgb else ''}_{size}\"\n",
    "    print(f\"Evaluating {run}\")\n",
    "\n",
    "    filename = f\"{run}.pkl\"\n",
    "    if not os.path.exists(filename):\n",
    "        continue\n",
    "\n",
    "    with open(filename, \"rb\") as f:\n",
    "        data = pickle.load(f)\n",
    "\n",
    "    x_train = data[\"x_train\"]\n",
    "    y_train = data[\"y_train\"]\n",
    "    x_test = data[\"x_test\"]\n",
    "    y_test = data[\"y_test\"]\n",
    "\n",
    "    knn_model = KNeighborsClassifier(n_neighbors=K)\n",
    "    knn_model.fit(X=x_train, y=y_train)\n",
    "\n",
    "    y_test_onehot = label_binarize(y_test, classes=np.arange(len(SAT6.classes)))\n",
    "    y_pred = knn_model.predict(x_test)\n",
    "    y_score = knn_model.predict_proba(x_test)\n",
    "\n",
    "    metrics = {\n",
    "        \"f1_weighted\": f1_score(y_test, y_pred, average=\"weighted\"),\n",
    "        \"f1_micro\": f1_score(y_test, y_pred, average=\"micro\"),\n",
    "        \"precision_micro\": precision_score(y_test, y_pred, average=\"micro\"),\n",
    "        \"precision_weighted\": precision_score(y_test, y_pred, average=\"weighted\"),\n",
    "        \"recall_micro\": recall_score(y_test, y_pred, average=\"micro\"),\n",
    "        \"recall_weighted\": recall_score(y_test, y_pred, average=\"weighted\"),\n",
    "        \"accuracy\": accuracy_score(y_test, y_pred),\n",
    "    }\n",
    "    pprint(metrics)\n",
    "    results[run] = metrics"
   ]
  },
  {
   "cell_type": "code",
   "execution_count": 8,
   "metadata": {},
   "outputs": [],
   "source": [
    "# Dump metrics\n",
    "with open(\"sat6-results.json\", \"w\") as f:\n",
    "    json.dump(results, f, indent=2)"
   ]
  },
  {
   "cell_type": "code",
   "execution_count": 9,
   "metadata": {},
   "outputs": [
    {
     "data": {
      "text/html": [
       "<div>\n",
       "<style scoped>\n",
       "    .dataframe tbody tr th:only-of-type {\n",
       "        vertical-align: middle;\n",
       "    }\n",
       "\n",
       "    .dataframe tbody tr th {\n",
       "        vertical-align: top;\n",
       "    }\n",
       "\n",
       "    .dataframe thead th {\n",
       "        text-align: right;\n",
       "    }\n",
       "</style>\n",
       "<table border=\"1\" class=\"dataframe\">\n",
       "  <thead>\n",
       "    <tr style=\"text-align: right;\">\n",
       "      <th></th>\n",
       "      <th>f1_weighted</th>\n",
       "      <th>f1_micro</th>\n",
       "      <th>precision_micro</th>\n",
       "      <th>precision_weighted</th>\n",
       "      <th>recall_micro</th>\n",
       "      <th>recall_weighted</th>\n",
       "      <th>accuracy</th>\n",
       "      <th>rgb</th>\n",
       "      <th>size</th>\n",
       "      <th>encoder</th>\n",
       "    </tr>\n",
       "  </thead>\n",
       "  <tbody>\n",
       "    <tr>\n",
       "      <th>imagestats_rgb_34</th>\n",
       "      <td>0.996775</td>\n",
       "      <td>0.996778</td>\n",
       "      <td>0.996778</td>\n",
       "      <td>0.996778</td>\n",
       "      <td>0.996778</td>\n",
       "      <td>0.996778</td>\n",
       "      <td>0.996778</td>\n",
       "      <td>RGB</td>\n",
       "      <td>34</td>\n",
       "      <td>imagestats</td>\n",
       "    </tr>\n",
       "    <tr>\n",
       "      <th>imagestats_rgb_224</th>\n",
       "      <td>0.996775</td>\n",
       "      <td>0.996778</td>\n",
       "      <td>0.996778</td>\n",
       "      <td>0.996778</td>\n",
       "      <td>0.996778</td>\n",
       "      <td>0.996778</td>\n",
       "      <td>0.996778</td>\n",
       "      <td>RGB</td>\n",
       "      <td>224</td>\n",
       "      <td>imagestats</td>\n",
       "    </tr>\n",
       "    <tr>\n",
       "      <th>mosaiks_512_3_rgb_34</th>\n",
       "      <td>0.986210</td>\n",
       "      <td>0.986198</td>\n",
       "      <td>0.986198</td>\n",
       "      <td>0.986253</td>\n",
       "      <td>0.986198</td>\n",
       "      <td>0.986198</td>\n",
       "      <td>0.986198</td>\n",
       "      <td>RGB</td>\n",
       "      <td>34</td>\n",
       "      <td>mosaiks_512_3</td>\n",
       "    </tr>\n",
       "    <tr>\n",
       "      <th>mosaiks_512_3_rgb_224</th>\n",
       "      <td>0.984657</td>\n",
       "      <td>0.984642</td>\n",
       "      <td>0.984642</td>\n",
       "      <td>0.984709</td>\n",
       "      <td>0.984642</td>\n",
       "      <td>0.984642</td>\n",
       "      <td>0.984642</td>\n",
       "      <td>RGB</td>\n",
       "      <td>224</td>\n",
       "      <td>mosaiks_512_3</td>\n",
       "    </tr>\n",
       "    <tr>\n",
       "      <th>resnet18_pretrained_moco_rgb_34</th>\n",
       "      <td>0.970833</td>\n",
       "      <td>0.970889</td>\n",
       "      <td>0.970889</td>\n",
       "      <td>0.970831</td>\n",
       "      <td>0.970889</td>\n",
       "      <td>0.970889</td>\n",
       "      <td>0.970889</td>\n",
       "      <td>RGB</td>\n",
       "      <td>34</td>\n",
       "      <td>resnet18_pretrained_moco</td>\n",
       "    </tr>\n",
       "    <tr>\n",
       "      <th>resnet18_pretrained_moco_rgb_224</th>\n",
       "      <td>0.998827</td>\n",
       "      <td>0.998827</td>\n",
       "      <td>0.998827</td>\n",
       "      <td>0.998828</td>\n",
       "      <td>0.998827</td>\n",
       "      <td>0.998827</td>\n",
       "      <td>0.998827</td>\n",
       "      <td>RGB</td>\n",
       "      <td>224</td>\n",
       "      <td>resnet18_pretrained_moco</td>\n",
       "    </tr>\n",
       "    <tr>\n",
       "      <th>resnet50_pretrained_imagenet_rgb_34</th>\n",
       "      <td>0.931054</td>\n",
       "      <td>0.931123</td>\n",
       "      <td>0.931123</td>\n",
       "      <td>0.931122</td>\n",
       "      <td>0.931123</td>\n",
       "      <td>0.931123</td>\n",
       "      <td>0.931123</td>\n",
       "      <td>RGB</td>\n",
       "      <td>34</td>\n",
       "      <td>resnet50_pretrained_imagenet</td>\n",
       "    </tr>\n",
       "    <tr>\n",
       "      <th>resnet50_pretrained_imagenet_rgb_224</th>\n",
       "      <td>0.997730</td>\n",
       "      <td>0.997728</td>\n",
       "      <td>0.997728</td>\n",
       "      <td>0.997739</td>\n",
       "      <td>0.997728</td>\n",
       "      <td>0.997728</td>\n",
       "      <td>0.997728</td>\n",
       "      <td>RGB</td>\n",
       "      <td>224</td>\n",
       "      <td>resnet50_pretrained_imagenet</td>\n",
       "    </tr>\n",
       "    <tr>\n",
       "      <th>resnet50_pretrained_moco_rgb_34</th>\n",
       "      <td>0.981685</td>\n",
       "      <td>0.981704</td>\n",
       "      <td>0.981704</td>\n",
       "      <td>0.981700</td>\n",
       "      <td>0.981704</td>\n",
       "      <td>0.981704</td>\n",
       "      <td>0.981704</td>\n",
       "      <td>RGB</td>\n",
       "      <td>34</td>\n",
       "      <td>resnet50_pretrained_moco</td>\n",
       "    </tr>\n",
       "    <tr>\n",
       "      <th>resnet50_pretrained_moco_rgb_224</th>\n",
       "      <td>0.998988</td>\n",
       "      <td>0.998988</td>\n",
       "      <td>0.998988</td>\n",
       "      <td>0.998988</td>\n",
       "      <td>0.998988</td>\n",
       "      <td>0.998988</td>\n",
       "      <td>0.998988</td>\n",
       "      <td>RGB</td>\n",
       "      <td>224</td>\n",
       "      <td>resnet50_pretrained_moco</td>\n",
       "    </tr>\n",
       "    <tr>\n",
       "      <th>resnet50_randominit_rgb_34</th>\n",
       "      <td>0.920944</td>\n",
       "      <td>0.920728</td>\n",
       "      <td>0.920728</td>\n",
       "      <td>0.933285</td>\n",
       "      <td>0.920728</td>\n",
       "      <td>0.920728</td>\n",
       "      <td>0.920728</td>\n",
       "      <td>RGB</td>\n",
       "      <td>34</td>\n",
       "      <td>resnet50_randominit</td>\n",
       "    </tr>\n",
       "    <tr>\n",
       "      <th>resnet50_randominit_rgb_224</th>\n",
       "      <td>0.985734</td>\n",
       "      <td>0.985704</td>\n",
       "      <td>0.985704</td>\n",
       "      <td>0.985799</td>\n",
       "      <td>0.985704</td>\n",
       "      <td>0.985704</td>\n",
       "      <td>0.985704</td>\n",
       "      <td>RGB</td>\n",
       "      <td>224</td>\n",
       "      <td>resnet50_randominit</td>\n",
       "    </tr>\n",
       "  </tbody>\n",
       "</table>\n",
       "</div>"
      ],
      "text/plain": [
       "                                      f1_weighted  f1_micro  precision_micro  \\\n",
       "imagestats_rgb_34                        0.996775  0.996778         0.996778   \n",
       "imagestats_rgb_224                       0.996775  0.996778         0.996778   \n",
       "mosaiks_512_3_rgb_34                     0.986210  0.986198         0.986198   \n",
       "mosaiks_512_3_rgb_224                    0.984657  0.984642         0.984642   \n",
       "resnet18_pretrained_moco_rgb_34          0.970833  0.970889         0.970889   \n",
       "resnet18_pretrained_moco_rgb_224         0.998827  0.998827         0.998827   \n",
       "resnet50_pretrained_imagenet_rgb_34      0.931054  0.931123         0.931123   \n",
       "resnet50_pretrained_imagenet_rgb_224     0.997730  0.997728         0.997728   \n",
       "resnet50_pretrained_moco_rgb_34          0.981685  0.981704         0.981704   \n",
       "resnet50_pretrained_moco_rgb_224         0.998988  0.998988         0.998988   \n",
       "resnet50_randominit_rgb_34               0.920944  0.920728         0.920728   \n",
       "resnet50_randominit_rgb_224              0.985734  0.985704         0.985704   \n",
       "\n",
       "                                      precision_weighted  recall_micro  \\\n",
       "imagestats_rgb_34                               0.996778      0.996778   \n",
       "imagestats_rgb_224                              0.996778      0.996778   \n",
       "mosaiks_512_3_rgb_34                            0.986253      0.986198   \n",
       "mosaiks_512_3_rgb_224                           0.984709      0.984642   \n",
       "resnet18_pretrained_moco_rgb_34                 0.970831      0.970889   \n",
       "resnet18_pretrained_moco_rgb_224                0.998828      0.998827   \n",
       "resnet50_pretrained_imagenet_rgb_34             0.931122      0.931123   \n",
       "resnet50_pretrained_imagenet_rgb_224            0.997739      0.997728   \n",
       "resnet50_pretrained_moco_rgb_34                 0.981700      0.981704   \n",
       "resnet50_pretrained_moco_rgb_224                0.998988      0.998988   \n",
       "resnet50_randominit_rgb_34                      0.933285      0.920728   \n",
       "resnet50_randominit_rgb_224                     0.985799      0.985704   \n",
       "\n",
       "                                      recall_weighted  accuracy  rgb  size  \\\n",
       "imagestats_rgb_34                            0.996778  0.996778  RGB    34   \n",
       "imagestats_rgb_224                           0.996778  0.996778  RGB   224   \n",
       "mosaiks_512_3_rgb_34                         0.986198  0.986198  RGB    34   \n",
       "mosaiks_512_3_rgb_224                        0.984642  0.984642  RGB   224   \n",
       "resnet18_pretrained_moco_rgb_34              0.970889  0.970889  RGB    34   \n",
       "resnet18_pretrained_moco_rgb_224             0.998827  0.998827  RGB   224   \n",
       "resnet50_pretrained_imagenet_rgb_34          0.931123  0.931123  RGB    34   \n",
       "resnet50_pretrained_imagenet_rgb_224         0.997728  0.997728  RGB   224   \n",
       "resnet50_pretrained_moco_rgb_34              0.981704  0.981704  RGB    34   \n",
       "resnet50_pretrained_moco_rgb_224             0.998988  0.998988  RGB   224   \n",
       "resnet50_randominit_rgb_34                   0.920728  0.920728  RGB    34   \n",
       "resnet50_randominit_rgb_224                  0.985704  0.985704  RGB   224   \n",
       "\n",
       "                                                           encoder  \n",
       "imagestats_rgb_34                                       imagestats  \n",
       "imagestats_rgb_224                                      imagestats  \n",
       "mosaiks_512_3_rgb_34                                 mosaiks_512_3  \n",
       "mosaiks_512_3_rgb_224                                mosaiks_512_3  \n",
       "resnet18_pretrained_moco_rgb_34           resnet18_pretrained_moco  \n",
       "resnet18_pretrained_moco_rgb_224          resnet18_pretrained_moco  \n",
       "resnet50_pretrained_imagenet_rgb_34   resnet50_pretrained_imagenet  \n",
       "resnet50_pretrained_imagenet_rgb_224  resnet50_pretrained_imagenet  \n",
       "resnet50_pretrained_moco_rgb_34           resnet50_pretrained_moco  \n",
       "resnet50_pretrained_moco_rgb_224          resnet50_pretrained_moco  \n",
       "resnet50_randominit_rgb_34                     resnet50_randominit  \n",
       "resnet50_randominit_rgb_224                    resnet50_randominit  "
      ]
     },
     "execution_count": 9,
     "metadata": {},
     "output_type": "execute_result"
    }
   ],
   "source": [
    "# Clean metrics\n",
    "with open(\"sat6-results.json\") as f:\n",
    "    results = json.load(f)\n",
    "\n",
    "df = pd.DataFrame.from_dict(results).transpose()\n",
    "df[\"rgb\"] = [\"RGB\" if \"rgb\" in model_name else \"MSI\" for model_name in df.index]\n",
    "df[\"size\"] = [int(model_name.split(\"_\")[-1]) for model_name in df.index]\n",
    "df[\"encoder\"] = [\n",
    "    model_name.rsplit(\"_\", 1)[0].replace(\"_rgb\", \"\") for model_name in df.index\n",
    "]\n",
    "df = df.sort_values([\"rgb\", \"encoder\", \"size\"], ascending=True)\n",
    "df.to_csv(\"sat6-results.csv\")\n",
    "df"
   ]
  },
  {
   "cell_type": "code",
   "execution_count": 18,
   "metadata": {},
   "outputs": [],
   "source": []
  },
  {
   "cell_type": "code",
   "execution_count": null,
   "metadata": {},
   "outputs": [],
   "source": []
  }
 ],
 "metadata": {
  "kernelspec": {
   "display_name": "torchgeo",
   "language": "python",
   "name": "python3"
  },
  "language_info": {
   "codemirror_mode": {
    "name": "ipython",
    "version": 3
   },
   "file_extension": ".py",
   "mimetype": "text/x-python",
   "name": "python",
   "nbconvert_exporter": "python",
   "pygments_lexer": "ipython3",
   "version": "3.10.8"
  },
  "orig_nbformat": 4
 },
 "nbformat": 4,
 "nbformat_minor": 2
}
