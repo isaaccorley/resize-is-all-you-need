{
 "cells": [
  {
   "cell_type": "code",
   "execution_count": 2,
   "metadata": {},
   "outputs": [],
   "source": [
    "import sys\n",
    "\n",
    "sys.path.append(\"..\")\n",
    "\n",
    "from itertools import product\n",
    "import pandas as pd\n",
    "import kornia.augmentation as K\n",
    "import torch\n",
    "import torch.nn as nn\n",
    "from sklearn.neighbors import KNeighborsClassifier\n",
    "from sklearn.preprocessing import StandardScaler\n",
    "\n",
    "from src.models import get_model_by_name\n",
    "from src.datasets.eurosat import EuroSATMinimal\n",
    "from src.utils import extract_features\n",
    "from tqdm import tqdm\n",
    "\n",
    "device = torch.device(\"cuda:1\")"
   ]
  },
  {
   "cell_type": "code",
   "execution_count": 3,
   "metadata": {},
   "outputs": [
    {
     "name": "stderr",
     "output_type": "stream",
     "text": [
      "168it [1:06:52, 23.89s/it]                     \n"
     ]
    }
   ],
   "source": [
    "# Fit and save features\n",
    "model_names = [\n",
    "    \"resnet50_pretrained_seco\",\n",
    "    \"resnet50_pretrained_moco\",\n",
    "    \"resnet50_pretrained_imagenet\",\n",
    "    \"resnet50_randominit\",\n",
    "    \"imagestats\",\n",
    "    \"mosaiks_512_3\",\n",
    "    \"mosaiks_zca_512_3\",\n",
    "]\n",
    "rgbs = [True, False]\n",
    "sizes = [64, 224]\n",
    "normalization_methods = [\"divide\", \"standardization\", \"for_seco\"]\n",
    "use_both_train_val = [True, False]\n",
    "\n",
    "columns = {\n",
    "    \"model_name\": [],\n",
    "    \"rgb\": [],\n",
    "    \"size\": [],\n",
    "    \"normalization\": [],\n",
    "    \"use_train_val\": [],\n",
    "    \"accuracy\": [],\n",
    "    \"accuracy_scaler\": [],\n",
    "}\n",
    "\n",
    "for model_name, rgb, size, normalization, use_both in tqdm(product(model_names, rgbs, sizes, normalization_methods, use_both_train_val), total=6*2*2*2*2):\n",
    "    transforms = nn.Sequential(K.Resize(size)).to(device)\n",
    "    dm = EuroSATMinimal(\n",
    "        root=\"../data/eurosat/\",\n",
    "        band_set=\"rgb\" if rgb else \"all\",\n",
    "        normalization_method=normalization,\n",
    "        batch_size=64,\n",
    "        num_workers=8,\n",
    "        use_both_trainval=use_both,\n",
    "    )\n",
    "    dm.setup()\n",
    "\n",
    "    if \"seco\" in model_name and not rgb:\n",
    "        continue\n",
    "\n",
    "    model = get_model_by_name(model_name, rgb, device=device, dataset=dm.train_dataset)\n",
    "\n",
    "    x_train, y_train = extract_features(\n",
    "        model, dm.train_dataloader(), device, transforms=transforms, verbose=False\n",
    "    )\n",
    "    x_test, y_test = extract_features(\n",
    "        model, dm.test_dataloader(), device, transforms=transforms, verbose=False\n",
    "    )\n",
    "\n",
    "    knn_model = KNeighborsClassifier(n_neighbors=5)\n",
    "    knn_model.fit(x_train, y_train)\n",
    "    acc = knn_model.score(x_test, y_test)\n",
    "\n",
    "    scaler = StandardScaler()\n",
    "    x_train = scaler.fit_transform(x_train)\n",
    "    x_test = scaler.transform(x_test)\n",
    "\n",
    "    knn_model = KNeighborsClassifier(n_neighbors=5)\n",
    "    knn_model.fit(x_train, y_train)\n",
    "    acc_scaler = knn_model.score(x_test, y_test)\n",
    "\n",
    "    columns[\"model_name\"].append(model_name)\n",
    "    columns[\"rgb\"].append(rgb)\n",
    "    columns[\"size\"].append(size)\n",
    "    columns[\"normalization\"].append(normalization)\n",
    "    columns[\"use_train_val\"].append(use_both)\n",
    "    columns[\"accuracy\"].append(acc)\n",
    "    columns[\"accuracy_scaler\"].append(acc_scaler)"
   ]
  },
  {
   "cell_type": "code",
   "execution_count": 4,
   "metadata": {},
   "outputs": [],
   "source": [
    "df = pd.DataFrame(columns)"
   ]
  },
  {
   "cell_type": "code",
   "execution_count": 5,
   "metadata": {},
   "outputs": [],
   "source": [
    "df.to_csv(\"../results/eurosat_table_results.csv\")"
   ]
  },
  {
   "cell_type": "code",
   "execution_count": null,
   "metadata": {},
   "outputs": [],
   "source": []
  }
 ],
 "metadata": {
  "kernelspec": {
   "display_name": "geospatiallib",
   "language": "python",
   "name": "python3"
  },
  "language_info": {
   "codemirror_mode": {
    "name": "ipython",
    "version": 3
   },
   "file_extension": ".py",
   "mimetype": "text/x-python",
   "name": "python",
   "nbconvert_exporter": "python",
   "pygments_lexer": "ipython3",
   "version": "3.10.9"
  },
  "orig_nbformat": 4
 },
 "nbformat": 4,
 "nbformat_minor": 2
}
