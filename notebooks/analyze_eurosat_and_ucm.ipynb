{
 "cells": [
  {
   "cell_type": "code",
   "execution_count": 1,
   "metadata": {},
   "outputs": [],
   "source": [
    "import pandas as pd"
   ]
  },
  {
   "cell_type": "code",
   "execution_count": 14,
   "metadata": {},
   "outputs": [],
   "source": [
    "df = pd.read_csv('../results/eurosat_table_results.csv', index_col=0)\n",
    "df = df[df[\"use_train_val\"] == False]"
   ]
  },
  {
   "cell_type": "code",
   "execution_count": 17,
   "metadata": {},
   "outputs": [
    {
     "name": "stdout",
     "output_type": "stream",
     "text": [
      "imagestats 64 MSI 0.8955555555555555\n",
      "imagestats 64 RGB 0.7694444444444445\n",
      "imagestats 224 MSI 0.8942592592592593\n",
      "imagestats 224 RGB 0.7720370370370371\n",
      "mosaiks_512_3 64 MSI 0.8796296296296297\n",
      "mosaiks_512_3 64 RGB 0.7922222222222223\n",
      "mosaiks_512_3 224 MSI 0.8753703703703704\n",
      "mosaiks_512_3 224 RGB 0.7718518518518519\n",
      "mosaiks_zca_512_3 64 MSI 0.9107407407407409\n",
      "mosaiks_zca_512_3 64 RGB 0.8155555555555556\n",
      "mosaiks_zca_512_3 224 MSI 0.9020370370370372\n",
      "mosaiks_zca_512_3 224 RGB 0.779074074074074\n",
      "resnet50_pretrained_imagenet 64 MSI 0.7864814814814814\n",
      "resnet50_pretrained_imagenet 64 RGB 0.820925925925926\n",
      "resnet50_pretrained_imagenet 224 MSI 0.8981481481481481\n",
      "resnet50_pretrained_imagenet 224 RGB 0.9116666666666666\n",
      "resnet50_pretrained_moco 64 MSI 0.8185185185185185\n",
      "resnet50_pretrained_moco 64 RGB 0.9411111111111112\n",
      "resnet50_pretrained_moco 224 MSI 0.9364814814814816\n",
      "resnet50_pretrained_moco 224 RGB 0.9575925925925926\n",
      "resnet50_pretrained_seco 64 RGB 0.8231481481481482\n",
      "resnet50_pretrained_seco 224 RGB 0.8757407407407407\n",
      "resnet50_randominit 64 MSI 0.7537037037037037\n",
      "resnet50_randominit 64 RGB 0.5888888888888889\n",
      "resnet50_randominit 224 MSI 0.8644444444444445\n",
      "resnet50_randominit 224 RGB 0.7331481481481481\n"
     ]
    }
   ],
   "source": [
    "for (model_name, size, rgb), group in df.groupby([\"model_name\", \"size\", \"rgb\"]):\n",
    "    max_acc = group[\"accuracy\"].max()\n",
    "    max_acc_scaler = group[\"accuracy_scaler\"].max()\n",
    "    print(model_name, size, \"RGB\" if rgb else \"MSI\", max(max_acc, max_acc_scaler))\n"
   ]
  },
  {
   "cell_type": "code",
   "execution_count": 18,
   "metadata": {},
   "outputs": [],
   "source": [
    "df = pd.read_csv('../results/ucm_table_results.csv', index_col=0)\n",
    "df = df[df[\"use_train_val\"] == False]"
   ]
  },
  {
   "cell_type": "code",
   "execution_count": 19,
   "metadata": {},
   "outputs": [
    {
     "name": "stdout",
     "output_type": "stream",
     "text": [
      "imagestats 256 RGB 0.4785714285714286\n",
      "mosaiks_512_3 256 RGB 0.5190476190476191\n",
      "mosaiks_zca_512_3 256 RGB 0.5738095238095238\n",
      "resnet50_pretrained_imagenet 256 RGB 0.9071428571428573\n",
      "resnet50_pretrained_moco 256 RGB 0.8547619047619047\n",
      "resnet50_pretrained_seco 256 RGB 0.8071428571428572\n",
      "resnet50_randominit 256 RGB 0.4666666666666667\n"
     ]
    }
   ],
   "source": [
    "\n",
    "for (model_name, size, rgb), group in df.groupby([\"model_name\", \"size\", \"rgb\"]):\n",
    "    max_acc = group[\"accuracy\"].max()\n",
    "    max_acc_scaler = group[\"accuracy_scaler\"].max()\n",
    "    print(model_name, size, \"RGB\" if rgb else \"MSI\", max(max_acc, max_acc_scaler))"
   ]
  },
  {
   "cell_type": "code",
   "execution_count": null,
   "metadata": {},
   "outputs": [],
   "source": []
  }
 ],
 "metadata": {
  "kernelspec": {
   "display_name": "geospatiallib",
   "language": "python",
   "name": "python3"
  },
  "language_info": {
   "codemirror_mode": {
    "name": "ipython",
    "version": 3
   },
   "file_extension": ".py",
   "mimetype": "text/x-python",
   "name": "python",
   "nbconvert_exporter": "python",
   "pygments_lexer": "ipython3",
   "version": "3.10.9"
  },
  "orig_nbformat": 4
 },
 "nbformat": 4,
 "nbformat_minor": 2
}
