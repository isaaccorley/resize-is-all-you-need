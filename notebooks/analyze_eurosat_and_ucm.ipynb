{
 "cells": [
  {
   "cell_type": "code",
   "execution_count": 1,
   "metadata": {},
   "outputs": [],
   "source": [
    "import pandas as pd"
   ]
  },
  {
   "cell_type": "code",
   "execution_count": 2,
   "metadata": {},
   "outputs": [],
   "source": [
    "df = pd.read_csv('../results/eurosat_table_results.csv', index_col=0)"
   ]
  },
  {
   "cell_type": "code",
   "execution_count": 3,
   "metadata": {},
   "outputs": [
    {
     "name": "stdout",
     "output_type": "stream",
     "text": [
      "imagestats,64,MSI,divide,89.56,nan\n",
      "imagestats,64,RGB,divide,76.94,nan\n",
      "imagestats,224,MSI,divide,89.43,nan\n",
      "imagestats,224,RGB,divide,77.20,nan\n",
      "mosaiks_512_3,64,MSI,standardization,87.56,0.35\n",
      "mosaiks_512_3,64,RGB,standardization,78.85,0.33\n",
      "mosaiks_512_3,224,MSI,standardization,87.41,0.12\n",
      "mosaiks_512_3,224,RGB,standardization,76.90,0.33\n",
      "mosaiks_zca_512_3,64,MSI,standardization,91.10,0.11\n",
      "mosaiks_zca_512_3,64,RGB,standardization,81.47,0.08\n",
      "mosaiks_zca_512_3,224,MSI,standardization,90.14,0.15\n",
      "mosaiks_zca_512_3,224,RGB,standardization,77.88,0.08\n",
      "resnet50_pretrained_imagenet,64,MSI,standardization,78.65,nan\n",
      "resnet50_pretrained_imagenet,64,RGB,standardization,82.09,nan\n",
      "resnet50_pretrained_imagenet,224,MSI,standardization,89.81,nan\n",
      "resnet50_pretrained_imagenet,224,RGB,standardization,91.17,nan\n",
      "resnet50_pretrained_moco,64,MSI,divide,81.85,nan\n",
      "resnet50_pretrained_moco,64,RGB,divide,94.11,nan\n",
      "resnet50_pretrained_moco,224,MSI,divide,93.65,nan\n",
      "resnet50_pretrained_moco,224,RGB,divide,95.76,nan\n",
      "resnet50_pretrained_seco,64,RGB,for_seco,82.31,nan\n",
      "resnet50_pretrained_seco,224,RGB,for_seco,87.57,nan\n",
      "resnet50_randominit,64,MSI,standardization,75.10,0.23\n",
      "resnet50_randominit,64,RGB,standardization,59.92,0.34\n",
      "resnet50_randominit,224,MSI,standardization,87.19,0.81\n",
      "resnet50_randominit,224,RGB,divide,73.76,0.53\n"
     ]
    }
   ],
   "source": [
    "for (model_name, size, rgb), group in df.groupby([\"model_name\", \"size\", \"rgb\"]):\n",
    "    best_acc = 0\n",
    "    best_acc_std = 0\n",
    "    best_row = None\n",
    "    for normalization, sub_group in group.groupby(\"normalization\"):\n",
    "        mean_acc = sub_group[\"accuracy\"].mean()\n",
    "        mean_acc_scaler = sub_group[\"accuracy_scaler\"].mean()\n",
    "        std_acc = sub_group[\"accuracy\"].std()\n",
    "        std_acc_scaler = sub_group[\"accuracy_scaler\"].std()\n",
    "\n",
    "        if mean_acc > best_acc:\n",
    "            best_acc = mean_acc\n",
    "            best_acc_std = std_acc\n",
    "            best_row = normalization\n",
    "        if mean_acc_scaler > best_acc:\n",
    "            best_acc = mean_acc_scaler\n",
    "            best_acc_std = std_acc_scaler\n",
    "            best_row = normalization\n",
    "    print(f\"{model_name},{size},{'RGB' if rgb else 'MSI'},{best_row},{best_acc*100:0.2f},{best_acc_std*100:0.2f}\")\n"
   ]
  },
  {
   "cell_type": "code",
   "execution_count": 2,
   "metadata": {},
   "outputs": [],
   "source": [
    "df = pd.read_csv('../results/ucm_table_results.csv', index_col=0)"
   ]
  },
  {
   "cell_type": "code",
   "execution_count": 13,
   "metadata": {},
   "outputs": [
    {
     "name": "stdout",
     "output_type": "stream",
     "text": [
      "imagestats,64,MSI,divide,89.56,nan\n",
      "imagestats,64,RGB,divide,76.94,nan\n",
      "imagestats,224,MSI,divide,89.43,nan\n",
      "imagestats,224,RGB,divide,77.20,nan\n",
      "mosaiks_512_3,64,MSI,standardization,87.56,0.35\n",
      "mosaiks_512_3,64,RGB,standardization,78.85,0.33\n",
      "mosaiks_512_3,224,MSI,standardization,87.41,0.12\n",
      "mosaiks_512_3,224,RGB,standardization,76.90,0.33\n",
      "mosaiks_zca_512_3,64,MSI,standardization,91.10,0.11\n",
      "mosaiks_zca_512_3,64,RGB,standardization,81.47,0.08\n",
      "mosaiks_zca_512_3,224,MSI,standardization,90.14,0.15\n",
      "mosaiks_zca_512_3,224,RGB,standardization,77.88,0.08\n",
      "resnet50_pretrained_imagenet,64,MSI,standardization,78.65,nan\n",
      "resnet50_pretrained_imagenet,64,RGB,standardization,82.09,nan\n",
      "resnet50_pretrained_imagenet,224,MSI,standardization,89.81,nan\n",
      "resnet50_pretrained_imagenet,224,RGB,standardization,91.17,nan\n",
      "resnet50_pretrained_moco,64,MSI,divide,81.85,nan\n",
      "resnet50_pretrained_moco,64,RGB,divide,94.11,nan\n",
      "resnet50_pretrained_moco,224,MSI,divide,93.65,nan\n",
      "resnet50_pretrained_moco,224,RGB,divide,95.76,nan\n",
      "resnet50_pretrained_seco,64,RGB,for_seco,82.31,nan\n",
      "resnet50_pretrained_seco,224,RGB,for_seco,87.57,nan\n",
      "resnet50_randominit,64,MSI,standardization,75.10,0.23\n",
      "resnet50_randominit,64,RGB,standardization,59.92,0.34\n",
      "resnet50_randominit,224,MSI,standardization,87.19,0.81\n",
      "resnet50_randominit,224,RGB,divide,73.76,0.53\n"
     ]
    }
   ],
   "source": [
    "\n",
    "for (model_name, size, rgb), group in df.groupby([\"model_name\", \"size\", \"rgb\"]):\n",
    "    best_acc = 0\n",
    "    best_acc_std = 0\n",
    "    best_row = None\n",
    "    for normalization, sub_group in group.groupby(\"normalization\"):\n",
    "        mean_acc = sub_group[\"accuracy\"].mean()\n",
    "        mean_acc_scaler = sub_group[\"accuracy_scaler\"].mean()\n",
    "        std_acc = sub_group[\"accuracy\"].std()\n",
    "        std_acc_scaler = sub_group[\"accuracy_scaler\"].std()\n",
    "\n",
    "        if mean_acc > best_acc:\n",
    "            best_acc = mean_acc\n",
    "            best_acc_std = std_acc\n",
    "            best_row = normalization\n",
    "        if mean_acc_scaler > best_acc:\n",
    "            best_acc = mean_acc_scaler\n",
    "            best_acc_std = std_acc_scaler\n",
    "            best_row = normalization\n",
    "    print(f\"{model_name},{size},{'RGB' if rgb else 'MSI'},{best_row},{best_acc*100:0.2f},{best_acc_std*100:0.2f}\")"
   ]
  },
  {
   "cell_type": "code",
   "execution_count": null,
   "metadata": {},
   "outputs": [],
   "source": []
  }
 ],
 "metadata": {
  "kernelspec": {
   "display_name": "geospatiallib",
   "language": "python",
   "name": "python3"
  },
  "language_info": {
   "codemirror_mode": {
    "name": "ipython",
    "version": 3
   },
   "file_extension": ".py",
   "mimetype": "text/x-python",
   "name": "python",
   "nbconvert_exporter": "python",
   "pygments_lexer": "ipython3",
   "version": "3.10.9"
  },
  "orig_nbformat": 4
 },
 "nbformat": 4,
 "nbformat_minor": 2
}
