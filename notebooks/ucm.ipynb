{
 "cells": [
  {
   "cell_type": "code",
   "execution_count": 1,
   "metadata": {},
   "outputs": [],
   "source": [
    "import os\n",
    "import sys\n",
    "\n",
    "sys.path.append(\"..\")\n",
    "\n",
    "from itertools import product\n",
    "import pandas as pd\n",
    "import kornia.augmentation as K\n",
    "import numpy as np\n",
    "import torch\n",
    "import torch.nn as nn\n",
    "from sklearn.neighbors import KNeighborsClassifier\n",
    "from sklearn.preprocessing import StandardScaler\n",
    "\n",
    "from src.models import get_model_by_name\n",
    "from src.datasets.ucm import UCMMinimal\n",
    "from src.utils import extract_features\n",
    "from tqdm import tqdm\n",
    "\n",
    "device = torch.device(\"cuda:1\")"
   ]
  },
  {
   "cell_type": "code",
   "execution_count": 2,
   "metadata": {},
   "outputs": [
    {
     "name": "stderr",
     "output_type": "stream",
     "text": [
      "  1%|          | 1/96 [00:06<10:54,  6.89s/it]"
     ]
    },
    {
     "name": "stdout",
     "output_type": "stream",
     "text": [
      "0.3238095238095238 0.3\n"
     ]
    },
    {
     "name": "stderr",
     "output_type": "stream",
     "text": [
      "  2%|▏         | 2/96 [00:10<07:47,  4.97s/it]"
     ]
    },
    {
     "name": "stdout",
     "output_type": "stream",
     "text": [
      "0.3 0.27380952380952384\n"
     ]
    },
    {
     "name": "stderr",
     "output_type": "stream",
     "text": [
      "  3%|▎         | 3/96 [00:14<07:02,  4.55s/it]"
     ]
    },
    {
     "name": "stdout",
     "output_type": "stream",
     "text": [
      "0.38095238095238093 0.36666666666666664\n"
     ]
    }
   ],
   "source": [
    "# Fit and save features\n",
    "model_names = [\n",
    "    \"resnet50_pretrained_seco\",\n",
    "    \"resnet50_pretrained_moco\",\n",
    "    \"resnet18_pretrained_moco\",\n",
    "    \"resnet50_pretrained_imagenet\",\n",
    "    \"resnet50_randominit\",\n",
    "    \"imagestats\",\n",
    "    \"mosaiks_512_3\",\n",
    "]\n",
    "rgbs = [True]\n",
    "sizes = [64, 256]\n",
    "normalization_methods = [\"divide\", \"standardization\"]\n",
    "use_both_train_val = [True, False]\n",
    "\n",
    "columns = {\n",
    "    \"model_name\": [],\n",
    "    \"rgb\": [],\n",
    "    \"size\": [],\n",
    "    \"normalization\": [],\n",
    "    \"use_train_val\": [],\n",
    "    \"accuracy\": [],\n",
    "    \"accuracy_scaler\": [],\n",
    "}\n",
    "\n",
    "for model_name, rgb, size, normalization, use_both in tqdm(product(model_names, rgbs, sizes, normalization_methods, use_both_train_val), total=7*2*2*2):\n",
    "    transforms = nn.Sequential(K.Resize(size)).to(device)\n",
    "    dm = UCMMinimal(\n",
    "        root=\"../data/ucm/\",\n",
    "        normalization_method=normalization,\n",
    "        batch_size=64,\n",
    "        num_workers=8,\n",
    "        use_both_trainval=use_both,\n",
    "    )\n",
    "    dm.setup()\n",
    "\n",
    "\n",
    "    model = get_model_by_name(model_name, rgb, device=device)\n",
    "\n",
    "    x_train, y_train = extract_features(\n",
    "        model, dm.train_dataloader(), device, transforms=transforms, verbose=False\n",
    "    )\n",
    "    x_test, y_test = extract_features(\n",
    "        model, dm.test_dataloader(), device, transforms=transforms, verbose=False\n",
    "    )\n",
    "\n",
    "    knn_model = KNeighborsClassifier(n_neighbors=5)\n",
    "    knn_model.fit(x_train, y_train)\n",
    "    acc = knn_model.score(x_test, y_test)\n",
    "\n",
    "    scaler = StandardScaler()\n",
    "    x_train = scaler.fit_transform(x_train)\n",
    "    x_test = scaler.transform(x_test)\n",
    "\n",
    "    knn_model = KNeighborsClassifier(n_neighbors=5)\n",
    "    knn_model.fit(x_train, y_train)\n",
    "    acc_scaler = knn_model.score(x_test, y_test)\n",
    "\n",
    "    print(acc, acc_scaler)\n",
    "\n",
    "    columns[\"model_name\"].append(model_name)\n",
    "    columns[\"rgb\"].append(rgb)\n",
    "    columns[\"size\"].append(size)\n",
    "    columns[\"normalization\"].append(normalization)\n",
    "    columns[\"use_train_val\"].append(use_both)\n",
    "    columns[\"accuracy\"].append(acc)\n",
    "    columns[\"accuracy_scaler\"].append(acc_scaler)"
   ]
  },
  {
   "cell_type": "code",
   "execution_count": null,
   "metadata": {},
   "outputs": [],
   "source": []
  }
 ],
 "metadata": {
  "kernelspec": {
   "display_name": "geospatiallib",
   "language": "python",
   "name": "python3"
  },
  "language_info": {
   "codemirror_mode": {
    "name": "ipython",
    "version": 3
   },
   "file_extension": ".py",
   "mimetype": "text/x-python",
   "name": "python",
   "nbconvert_exporter": "python",
   "pygments_lexer": "ipython3",
   "version": "3.10.9"
  },
  "orig_nbformat": 4
 },
 "nbformat": 4,
 "nbformat_minor": 2
}
